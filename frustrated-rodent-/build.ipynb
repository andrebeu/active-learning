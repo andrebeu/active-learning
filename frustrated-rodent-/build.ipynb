{
 "cells": [
  {
   "cell_type": "code",
   "execution_count": 15,
   "id": "cc933688",
   "metadata": {},
   "outputs": [],
   "source": [
    "import sys\n",
    "import os\n",
    "import itertools\n",
    "import numpy as np\n",
    "import torch as tr\n",
    "import pandas as pd\n",
    "from matplotlib import pyplot as plt\n",
    "import seaborn as sns\n",
    "sns.set_context('talk')\n",
    "\n",
    "import multiprocessing as mp\n",
    "import concurrent\n",
    "\n",
    "from utils import *\n",
    "\n",
    "%load_ext autoreload\n",
    "%reload_ext autoreload\n",
    "%autoreload 2\n"
   ]
  },
  {
   "cell_type": "code",
   "execution_count": 16,
   "id": "36d73fe9",
   "metadata": {},
   "outputs": [],
   "source": [
    "# multiprocess fun for parallelizing simulations across seeds\n",
    "def exp_mp(seed_exp,nseeds,gsvar=None):\n",
    "  \"\"\" \n",
    "  first argument is seed_exp method\n",
    "  seed_exp takes one dummy arguments\n",
    "    placeholder for iterating over seeds\n",
    "  seed_exp could also take second argument\n",
    "    variable condition repeated over seeds \n",
    "    used for gridsearching\n",
    "  \"\"\"\n",
    "  with concurrent.futures.ProcessPoolExecutor() as exe:\n",
    "    data = exe.map(seed_exp, np.arange(nseeds), np.repeat(gsvar,nseeds))\n",
    "  return np.array([i for i in data])\n",
    "  "
   ]
  },
  {
   "cell_type": "markdown",
   "id": "c4f742d0",
   "metadata": {},
   "source": [
    "### main loop"
   ]
  },
  {
   "cell_type": "code",
   "execution_count": 42,
   "id": "80729f75",
   "metadata": {},
   "outputs": [],
   "source": [
    "agent_kw = {'gamma':0,'learnrate':0.0005}\n",
    "agent = ActorCritic(**agent_kw)\n",
    "tsteps = 3\n",
    "task_kw = {'epoch_len':6,'trlen':3}\n",
    "task = PWMTaskFR(**task_kw)"
   ]
  },
  {
   "cell_type": "code",
   "execution_count": 49,
   "id": "3efe2861",
   "metadata": {},
   "outputs": [
    {
     "ename": "TypeError",
     "evalue": "expected Tensor as element 0 in argument 0, but got numpy.ndarray",
     "output_type": "error",
     "traceback": [
      "\u001b[0;31m---------------------------------------------------------------------------\u001b[0m",
      "\u001b[0;31mTypeError\u001b[0m                                 Traceback (most recent call last)",
      "\u001b[0;32m<ipython-input-49-a212091a1d3b>\u001b[0m in \u001b[0;36m<module>\u001b[0;34m\u001b[0m\n\u001b[0;32m----> 1\u001b[0;31m \u001b[0mtr\u001b[0m\u001b[0;34m.\u001b[0m\u001b[0mvstack\u001b[0m\u001b[0;34m(\u001b[0m\u001b[0mepoch_data\u001b[0m\u001b[0;34m[\u001b[0m\u001b[0;34m'reward'\u001b[0m\u001b[0;34m]\u001b[0m\u001b[0;34m)\u001b[0m\u001b[0;34m\u001b[0m\u001b[0;34m\u001b[0m\u001b[0m\n\u001b[0m",
      "\u001b[0;31mTypeError\u001b[0m: expected Tensor as element 0 in argument 0, but got numpy.ndarray"
     ]
    }
   ],
   "source": [
    "tr.(epoch_data['reward'])"
   ]
  },
  {
   "cell_type": "code",
   "execution_count": 37,
   "id": "f7dd671a",
   "metadata": {},
   "outputs": [
    {
     "ename": "TypeError",
     "evalue": "expected Tensor as element 0 in argument 0, but got numpy.ndarray",
     "output_type": "error",
     "traceback": [
      "\u001b[0;31m---------------------------------------------------------------------------\u001b[0m",
      "\u001b[0;31mTypeError\u001b[0m                                 Traceback (most recent call last)",
      "\u001b[0;32m<ipython-input-37-a83cb5ed8534>\u001b[0m in \u001b[0;36m<module>\u001b[0;34m\u001b[0m\n\u001b[1;32m      1\u001b[0m \u001b[0mtr\u001b[0m\u001b[0;34m.\u001b[0m\u001b[0mcat\u001b[0m\u001b[0;34m(\u001b[0m\u001b[0mepoch_data\u001b[0m\u001b[0;34m[\u001b[0m\u001b[0;34m'logpr_actions'\u001b[0m\u001b[0;34m]\u001b[0m\u001b[0;34m)\u001b[0m\u001b[0;34m\u001b[0m\u001b[0;34m\u001b[0m\u001b[0m\n\u001b[0;32m----> 2\u001b[0;31m \u001b[0mrewards\u001b[0m \u001b[0;34m=\u001b[0m \u001b[0mtr\u001b[0m\u001b[0;34m.\u001b[0m\u001b[0mcat\u001b[0m\u001b[0;34m(\u001b[0m\u001b[0mepoch_data\u001b[0m\u001b[0;34m[\u001b[0m\u001b[0;34m'reward'\u001b[0m\u001b[0;34m]\u001b[0m\u001b[0;34m)\u001b[0m\u001b[0;34m\u001b[0m\u001b[0;34m\u001b[0m\u001b[0m\n\u001b[0m\u001b[1;32m      3\u001b[0m \u001b[0mrewards\u001b[0m\u001b[0;34m\u001b[0m\u001b[0;34m\u001b[0m\u001b[0m\n",
      "\u001b[0;31mTypeError\u001b[0m: expected Tensor as element 0 in argument 0, but got numpy.ndarray"
     ]
    }
   ],
   "source": [
    "tr.cat(epoch_data['logpr_actions'])\n",
    "rewards = tr.cat(epoch_data['reward'])\n",
    "rewards"
   ]
  },
  {
   "cell_type": "code",
   "execution_count": 44,
   "id": "f01d2fff",
   "metadata": {},
   "outputs": [
    {
     "name": "stdout",
     "output_type": "stream",
     "text": [
      "\n",
      "{'state': [array([0., 0., 2.]), array([0., 0., 1.])], 'obs': [array([[1., 0.],\n",
      "       [0., 0.],\n",
      "       [0., 1.]]), array([[0., 1.],\n",
      "       [0., 0.],\n",
      "       [1., 0.]])], 'action': [tensor([[0],\n",
      "        [0],\n",
      "        [0]]), tensor([[1],\n",
      "        [1],\n",
      "        [1]])], 'reward': [array([0., 0., 0.]), array([ 0.,  0., 10.])], 'vhat': [tensor([[[0.0124]],\n",
      "\n",
      "        [[0.0340]],\n",
      "\n",
      "        [[0.0372]]], grad_fn=<AddBackward0>), tensor([[[0.0266]],\n",
      "\n",
      "        [[0.0432]],\n",
      "\n",
      "        [[0.0261]]], grad_fn=<AddBackward0>)], 'distr': [Categorical(probs: torch.Size([3, 1, 3]), logits: torch.Size([3, 1, 3])), Categorical(probs: torch.Size([3, 1, 3]), logits: torch.Size([3, 1, 3]))], 'ttype': [1, 1], 'logpr_actions': [tensor([[-1.1303],\n",
      "        [-1.1315],\n",
      "        [-1.1344]], grad_fn=<SqueezeBackward1>), tensor([[-1.1487],\n",
      "        [-1.1475],\n",
      "        [-1.1396]], grad_fn=<SqueezeBackward1>)], 'pism': [tensor([[[0.3229, 0.3123, 0.3648]],\n",
      "\n",
      "        [[0.3225, 0.3153, 0.3622]],\n",
      "\n",
      "        [[0.3216, 0.3228, 0.3556]]], grad_fn=<SoftmaxBackward>), tensor([[[0.3239, 0.3171, 0.3590]],\n",
      "\n",
      "        [[0.3240, 0.3174, 0.3586]],\n",
      "\n",
      "        [[0.3212, 0.3199, 0.3588]]], grad_fn=<SoftmaxBackward>)]}\n"
     ]
    },
    {
     "ename": "ValueError",
     "evalue": "operands could not be broadcast together with shapes (2,3) (2,) ",
     "output_type": "error",
     "traceback": [
      "\u001b[0;31m---------------------------------------------------------------------------\u001b[0m",
      "\u001b[0;31mValueError\u001b[0m                                Traceback (most recent call last)",
      "\u001b[0;32m<ipython-input-44-bc2905191585>\u001b[0m in \u001b[0;36m<module>\u001b[0;34m\u001b[0m\n\u001b[1;32m      9\u001b[0m   \u001b[0mprint\u001b[0m\u001b[0;34m(\u001b[0m\u001b[0mepoch_data\u001b[0m\u001b[0;34m)\u001b[0m\u001b[0;34m\u001b[0m\u001b[0;34m\u001b[0m\u001b[0m\n\u001b[1;32m     10\u001b[0m   \u001b[0mL\u001b[0m\u001b[0;34m.\u001b[0m\u001b[0mappend\u001b[0m\u001b[0;34m(\u001b[0m\u001b[0mepoch_data\u001b[0m\u001b[0;34m)\u001b[0m\u001b[0;34m\u001b[0m\u001b[0;34m\u001b[0m\u001b[0m\n\u001b[0;32m---> 11\u001b[0;31m   \u001b[0mloss\u001b[0m\u001b[0;34m[\u001b[0m\u001b[0;34m:\u001b[0m\u001b[0;34m,\u001b[0m\u001b[0mepoch\u001b[0m\u001b[0;34m]\u001b[0m \u001b[0;34m=\u001b[0m \u001b[0magent\u001b[0m\u001b[0;34m.\u001b[0m\u001b[0mupdate\u001b[0m\u001b[0;34m(\u001b[0m\u001b[0mepoch_data\u001b[0m\u001b[0;34m)\u001b[0m\u001b[0;34m\u001b[0m\u001b[0;34m\u001b[0m\u001b[0m\n\u001b[0m\u001b[1;32m     12\u001b[0m   \u001b[0mreward\u001b[0m\u001b[0;34m[\u001b[0m\u001b[0mepoch\u001b[0m\u001b[0;34m]\u001b[0m \u001b[0;34m=\u001b[0m \u001b[0mnp\u001b[0m\u001b[0;34m.\u001b[0m\u001b[0msum\u001b[0m\u001b[0;34m(\u001b[0m\u001b[0mepoch_data\u001b[0m\u001b[0;34m[\u001b[0m\u001b[0;34m'reward'\u001b[0m\u001b[0;34m]\u001b[0m\u001b[0;34m[\u001b[0m\u001b[0;34m-\u001b[0m\u001b[0;36m1\u001b[0m\u001b[0;34m]\u001b[0m\u001b[0;34m)\u001b[0m\u001b[0;34m/\u001b[0m\u001b[0mtask\u001b[0m\u001b[0;34m.\u001b[0m\u001b[0mntrials\u001b[0m\u001b[0;34m\u001b[0m\u001b[0;34m\u001b[0m\u001b[0m\n\u001b[1;32m     13\u001b[0m   \u001b[0mpism\u001b[0m\u001b[0;34m[\u001b[0m\u001b[0;34m:\u001b[0m\u001b[0;34m,\u001b[0m\u001b[0mepoch\u001b[0m\u001b[0;34m]\u001b[0m \u001b[0;34m=\u001b[0m \u001b[0mepoch_data\u001b[0m\u001b[0;34m[\u001b[0m\u001b[0;34m'pism'\u001b[0m\u001b[0;34m]\u001b[0m\u001b[0;34m[\u001b[0m\u001b[0;34m-\u001b[0m\u001b[0;36m1\u001b[0m\u001b[0;34m]\u001b[0m\u001b[0;34m.\u001b[0m\u001b[0msqueeze\u001b[0m\u001b[0;34m(\u001b[0m\u001b[0;34m)\u001b[0m\u001b[0;34m.\u001b[0m\u001b[0mdetach\u001b[0m\u001b[0;34m(\u001b[0m\u001b[0;34m)\u001b[0m\u001b[0;34m.\u001b[0m\u001b[0mnumpy\u001b[0m\u001b[0;34m(\u001b[0m\u001b[0;34m)\u001b[0m\u001b[0;34m\u001b[0m\u001b[0;34m\u001b[0m\u001b[0m\n",
      "\u001b[0;32m~/wd/RL/active-learning/frustrated-rodent-/utils.py\u001b[0m in \u001b[0;36mupdate\u001b[0;34m(self, expD)\u001b[0m\n\u001b[1;32m    130\u001b[0m         \u001b[0mexpects\u001b[0m \u001b[0mexpD\u001b[0m \u001b[0;34m=\u001b[0m \u001b[0;34m{\u001b[0m\u001b[0;34m'state'\u001b[0m\u001b[0;34m,\u001b[0m\u001b[0;34m'obs'\u001b[0m\u001b[0;34m,\u001b[0m\u001b[0;34m'action'\u001b[0m\u001b[0;34m,\u001b[0m\u001b[0;34m'reward'\u001b[0m\u001b[0;34m,\u001b[0m\u001b[0;34m'pi'\u001b[0m\u001b[0;34m,\u001b[0m\u001b[0;34m'vhat'\u001b[0m\u001b[0;34m}\u001b[0m\u001b[0;34m\u001b[0m\u001b[0;34m\u001b[0m\u001b[0m\n\u001b[1;32m    131\u001b[0m         \"\"\"\n\u001b[0;32m--> 132\u001b[0;31m         \u001b[0mreturns\u001b[0m \u001b[0;34m=\u001b[0m \u001b[0mtr\u001b[0m\u001b[0;34m.\u001b[0m\u001b[0mTensor\u001b[0m\u001b[0;34m(\u001b[0m\u001b[0mcompute_returns\u001b[0m\u001b[0;34m(\u001b[0m\u001b[0mexpD\u001b[0m\u001b[0;34m[\u001b[0m\u001b[0;34m'reward'\u001b[0m\u001b[0;34m]\u001b[0m\u001b[0;34m,\u001b[0m\u001b[0mself\u001b[0m\u001b[0;34m.\u001b[0m\u001b[0mgamma\u001b[0m\u001b[0;34m)\u001b[0m\u001b[0;34m)\u001b[0m\u001b[0;34m\u001b[0m\u001b[0;34m\u001b[0m\u001b[0m\n\u001b[0m\u001b[1;32m    133\u001b[0m         \u001b[0mvhats\u001b[0m \u001b[0;34m=\u001b[0m \u001b[0mexpD\u001b[0m\u001b[0;34m[\u001b[0m\u001b[0;34m'vhat'\u001b[0m\u001b[0;34m]\u001b[0m\u001b[0;34m[\u001b[0m\u001b[0;36m0\u001b[0m\u001b[0;34m]\u001b[0m\u001b[0;34m.\u001b[0m\u001b[0msqueeze\u001b[0m\u001b[0;34m(\u001b[0m\u001b[0;34m)\u001b[0m\u001b[0;34m\u001b[0m\u001b[0;34m\u001b[0m\u001b[0m\n\u001b[1;32m    134\u001b[0m         \u001b[0mdelta\u001b[0m \u001b[0;34m=\u001b[0m \u001b[0mreturns\u001b[0m \u001b[0;34m-\u001b[0m \u001b[0mvhats\u001b[0m\u001b[0;34m\u001b[0m\u001b[0;34m\u001b[0m\u001b[0m\n",
      "\u001b[0;32m~/wd/RL/active-learning/frustrated-rodent-/utils.py\u001b[0m in \u001b[0;36mcompute_returns\u001b[0;34m(rewards, gamma)\u001b[0m\n\u001b[1;32m     20\u001b[0m             rewards[t:])*np.array([\n\u001b[1;32m     21\u001b[0m                 gamma**i for i in range(T-t)]\n\u001b[0;32m---> 22\u001b[0;31m         )) for t in range(T)\n\u001b[0m\u001b[1;32m     23\u001b[0m     ]) ## not sure how to parse this\n\u001b[1;32m     24\u001b[0m     \u001b[0;32mreturn\u001b[0m \u001b[0mreturns\u001b[0m\u001b[0;34m\u001b[0m\u001b[0;34m\u001b[0m\u001b[0m\n",
      "\u001b[0;32m~/wd/RL/active-learning/frustrated-rodent-/utils.py\u001b[0m in \u001b[0;36m<listcomp>\u001b[0;34m(.0)\u001b[0m\n\u001b[1;32m     20\u001b[0m             rewards[t:])*np.array([\n\u001b[1;32m     21\u001b[0m                 gamma**i for i in range(T-t)]\n\u001b[0;32m---> 22\u001b[0;31m         )) for t in range(T)\n\u001b[0m\u001b[1;32m     23\u001b[0m     ]) ## not sure how to parse this\n\u001b[1;32m     24\u001b[0m     \u001b[0;32mreturn\u001b[0m \u001b[0mreturns\u001b[0m\u001b[0;34m\u001b[0m\u001b[0;34m\u001b[0m\u001b[0m\n",
      "\u001b[0;31mValueError\u001b[0m: operands could not be broadcast together with shapes (2,3) (2,) "
     ]
    }
   ],
   "source": [
    "neps=1\n",
    "reward = -np.ones(neps)\n",
    "loss = -np.ones([2,neps])\n",
    "pism = -np.ones([3,neps])\n",
    "L = []\n",
    "for epoch in range(neps):\n",
    "  epoch_data = run_epoch_FR(agent,task)\n",
    "  print()\n",
    "  print(epoch_data)\n",
    "  L.append(epoch_data)\n",
    "  loss[:,epoch] = agent.update(epoch_data)\n",
    "  reward[epoch] = np.sum(epoch_data['reward'][-1])/task.ntrials\n",
    "  pism[:,epoch] = epoch_data['pism'][-1].squeeze().detach().numpy()\n",
    "  "
   ]
  },
  {
   "cell_type": "code",
   "execution_count": 5,
   "id": "58559aca",
   "metadata": {},
   "outputs": [
    {
     "data": {
      "text/plain": [
       "{'state': [0.0, 0.0, 2.0],\n",
       " 'obs': [array([1., 0.]), array([0., 0.]), array([0., 1.])],\n",
       " 'action': [tensor([0]), tensor([0]), tensor([2])],\n",
       " 'reward': [0.0, 0.0, 1.0],\n",
       " 'vhat': [tensor([[[-0.0034]],\n",
       "  \n",
       "          [[-0.0050]],\n",
       "  \n",
       "          [[ 1.0021]]], grad_fn=<AddBackward0>)],\n",
       " 'distr': [Categorical(probs: torch.Size([3, 1, 3]), logits: torch.Size([3, 1, 3]))],\n",
       " 'ttype': [1],\n",
       " 'logpr_actions': [tensor([[-1.1921e-07],\n",
       "          [-1.1921e-07],\n",
       "          [-1.1921e-07]], grad_fn=<SqueezeBackward1>)],\n",
       " 'pism': [tensor([[1.0000e+00, 8.1892e-08, 6.4917e-09]], grad_fn=<UnbindBackward>),\n",
       "  tensor([[1.0000e+00, 5.2095e-13, 1.5397e-10]], grad_fn=<UnbindBackward>),\n",
       "  tensor([[1.6664e-08, 6.7193e-08, 1.0000e+00]], grad_fn=<UnbindBackward>)]}"
      ]
     },
     "execution_count": 5,
     "metadata": {},
     "output_type": "execute_result"
    }
   ],
   "source": [
    "epoch_data"
   ]
  },
  {
   "cell_type": "code",
   "execution_count": 6,
   "id": "f9a14b6b",
   "metadata": {},
   "outputs": [
    {
     "data": {
      "text/plain": [
       "[0.0, 0.0, 1.0]"
      ]
     },
     "execution_count": 6,
     "metadata": {},
     "output_type": "execute_result"
    }
   ],
   "source": [
    "epoch_data['reward']"
   ]
  },
  {
   "cell_type": "code",
   "execution_count": 7,
   "id": "223f2aec",
   "metadata": {},
   "outputs": [
    {
     "data": {
      "image/png": "[encoded data removed]",
      "text/plain": [
       "<Figure size 432x288 with 1 Axes>"
      ]
     },
     "metadata": {
      "needs_background": "light"
     },
     "output_type": "display_data"
    }
   ],
   "source": [
    "for p in pism:\n",
    "  plt.plot(p)"
   ]
  },
  {
   "cell_type": "code",
   "execution_count": 8,
   "id": "eb32692d",
   "metadata": {},
   "outputs": [
    {
     "data": {
      "image/png": "[encoded data removed]",
      "text/plain": [
       "<Figure size 1152x288 with 2 Axes>"
      ]
     },
     "metadata": {
      "needs_background": "light"
     },
     "output_type": "display_data"
    }
   ],
   "source": [
    "f,ax = plt.subplots(1,2,figsize=(16,4))\n",
    "w = 10\n",
    "for i in range(2):\n",
    "  ax[i].plot(loss[i].reshape(-1,w).mean(1))"
   ]
  },
  {
   "cell_type": "code",
   "execution_count": 9,
   "id": "3db44abc",
   "metadata": {},
   "outputs": [
    {
     "data": {
      "text/plain": [
       "[<matplotlib.lines.Line2D at 0x145f410d0>]"
      ]
     },
     "execution_count": 9,
     "metadata": {},
     "output_type": "execute_result"
    },
    {
     "data": {
      "image/png": "[encoded data removed]",
      "text/plain": [
       "<Figure size 432x288 with 1 Axes>"
      ]
     },
     "metadata": {
      "needs_background": "light"
     },
     "output_type": "display_data"
    }
   ],
   "source": [
    "w=20\n",
    "plt.plot(reward.reshape(-1,w).mean(1))"
   ]
  },
  {
   "cell_type": "code",
   "execution_count": 10,
   "id": "1280281c",
   "metadata": {},
   "outputs": [
    {
     "name": "stdout",
     "output_type": "stream",
     "text": [
      "[0. 0. 1.] [[0. 1.]\n",
      " [0. 0.]\n",
      " [1. 0.]]\n"
     ]
    }
   ],
   "source": [
    "S,O = task.sample_trial(1)\n",
    "print(S,O)\n"
   ]
  },
  {
   "cell_type": "code",
   "execution_count": 11,
   "id": "00a3ddb4",
   "metadata": {},
   "outputs": [
    {
     "ename": "AssertionError",
     "evalue": "",
     "output_type": "error",
     "traceback": [
      "\u001b[0;31m---------------------------------------------------------------------------\u001b[0m",
      "\u001b[0;31mAssertionError\u001b[0m                            Traceback (most recent call last)",
      "\u001b[0;32m<ipython-input-11-a871fdc9ebee>\u001b[0m in \u001b[0;36m<module>\u001b[0;34m\u001b[0m\n\u001b[0;32m----> 1\u001b[0;31m \u001b[0;32massert\u001b[0m \u001b[0;32mFalse\u001b[0m\u001b[0;34m\u001b[0m\u001b[0;34m\u001b[0m\u001b[0m\n\u001b[0m",
      "\u001b[0;31mAssertionError\u001b[0m: "
     ]
    }
   ],
   "source": [
    "assert False"
   ]
  },
  {
   "cell_type": "code",
   "execution_count": null,
   "id": "76cc5f96",
   "metadata": {},
   "outputs": [],
   "source": [
    "def seed_exp(_seed,gsvar=None,neps=1000):  \n",
    "  agent = ActorCritic()\n",
    "  task_kw = {'trlen':3}\n",
    "  task = PWMTaskFR(**task_kw)\n",
    "\n",
    "  reward = -np.ones(neps)\n",
    "  for epoch in range(neps):\n",
    "    epoch_data = run_epoch_FR(agent,task)\n",
    "    agent.update(epoch_data)\n",
    "    reward[epoch] = np.sum(epoch_data['reward'])/task.ntrials\n",
    "  return reward"
   ]
  },
  {
   "cell_type": "code",
   "execution_count": null,
   "id": "fc2fcc35",
   "metadata": {},
   "outputs": [],
   "source": [
    "seed_exp(_seed,gsvar)"
   ]
  },
  {
   "cell_type": "code",
   "execution_count": null,
   "id": "ce3cf29d",
   "metadata": {},
   "outputs": [],
   "source": [
    "nseeds,neps = 15,15000\n",
    "muL = [[0,1],[-1,0]]\n",
    "sigmaL = [0.5,1,2]\n",
    "mu = [-1,1]\n",
    "sigma = 2\n",
    "\n",
    "dataL = []\n",
    "for gs_var in sigmaL:\n",
    "  print(gs_var)\n",
    "  sigma = gs_var\n",
    "  \n",
    "  # run over multiple seeds\n",
    "  data = exp_mp(seed_exp,nseeds)\n",
    "  dataL.append(data)\n",
    "results = np.array(dataL)"
   ]
  }
 ],
 "metadata": {
  "kernelspec": {
   "display_name": "Python 3",
   "language": "python",
   "name": "python3"
  },
  "language_info": {
   "codemirror_mode": {
    "name": "ipython",
    "version": 3
   },
   "file_extension": ".py",
   "mimetype": "text/x-python",
   "name": "python",
   "nbconvert_exporter": "python",
   "pygments_lexer": "ipython3",
   "version": "3.7.10"
  }
 },
 "nbformat": 4,
 "nbformat_minor": 5
}
