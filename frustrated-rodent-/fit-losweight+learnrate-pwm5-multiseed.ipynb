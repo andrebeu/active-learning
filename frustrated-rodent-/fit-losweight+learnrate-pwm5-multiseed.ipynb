{
 "cells": [
  {
   "cell_type": "code",
   "execution_count": 3,
   "id": "cc933688",
   "metadata": {},
   "outputs": [],
   "source": [
    "import sys\n",
    "import os\n",
    "import itertools\n",
    "import numpy as np\n",
    "import torch as tr\n",
    "import pandas as pd\n",
    "from matplotlib import pyplot as plt\n",
    "import seaborn as sns\n",
    "sns.set_context('talk')\n",
    "import pprint\n",
    "\n",
    "import multiprocessing as mp\n",
    "import concurrent\n",
    "\n",
    "from utils import *\n",
    "\n",
    "%load_ext autoreload\n",
    "%reload_ext autoreload\n",
    "%autoreload 2\n"
   ]
  },
  {
   "cell_type": "markdown",
   "id": "7501222f",
   "metadata": {},
   "source": [
    "# fit pwm5\n",
    "- learning rate and critic loss weight\n",
    "\n",
    "## notes\n",
    "- PWM0: is the trivial task implementation\n",
    "    - two stim, response given by second\n",
    "- PWM5: is closer to real PWM\n",
    "    - 5 stimuli (ABCDE) \n",
    "    - A&E are edge cases where response given by second stim\n",
    "    - others require comparison"
   ]
  },
  {
   "cell_type": "code",
   "execution_count": 21,
   "id": "f01d2fff",
   "metadata": {},
   "outputs": [],
   "source": [
    "EPLEN = 15\n",
    "\n",
    "def seed_exp(seed,args):\n",
    "  \"\"\" loss [(value, policy),neps] \"\"\"\n",
    "  neps = args['task']['neps']\n",
    "  # task and agent definition\n",
    "  agent_kw = args['agent']\n",
    "  agent = ActorCritic(**agent_kw)\n",
    "  task_kw = {'stimset':'pwm5','epoch_len':EPLEN,'trlen':3}\n",
    "  task = PWMTaskFR(**task_kw)\n",
    "  # init loop vars\n",
    "  reward = -np.ones(neps)\n",
    "  loss = -np.ones([2,neps])\n",
    "  pism = -np.ones([3,neps])\n",
    "  L = []\n",
    "  # loop over epochs\n",
    "  for epoch in range(neps):\n",
    "    epoch_data = run_epoch_FR(agent,task)\n",
    "    epoch_data = process_epdata(epoch_data)\n",
    "    update_data = agent.update(epoch_data)\n",
    "    reward[epoch] = np.sum(epoch_data['reward'])/task.ntrials\n",
    "    loss[:,epoch] = list(update_data.values())\n",
    "  data = {'loss':loss,'reward':reward}\n",
    "  return data"
   ]
  },
  {
   "cell_type": "code",
   "execution_count": 22,
   "id": "3b7bc077",
   "metadata": {},
   "outputs": [],
   "source": [
    "# common setup\n",
    "nseeds = 3\n",
    "args = {\n",
    "  'task':{\n",
    "    'neps':10000\n",
    "  },\n",
    "  'agent':{\n",
    "    'gamma':1.0,\n",
    "    'learnrate':0.005,\n",
    "    'lweight':None # gridsearch\n",
    "  }\n",
    "}\n",
    "\n",
    "# gridsearch loss weight\n",
    "lwL = [2,3,4,5]\n",
    "for idx in range(len(lwL)):\n",
    "  args['agent']['lweight'] = lwL[idx]\n",
    "  dataL = exp_mp(seed_exp,nseeds=nseeds,gsvar=args)\n",
    "\n",
    "# unpack\n",
    "loss = np.array([d['loss'] for d in dataL]).mean(0) # mean over seeds\n",
    "reward = np.array([d['reward'] for d in dataL]).mean(0)"
   ]
  },
  {
   "cell_type": "code",
   "execution_count": null,
   "id": "eb32692d",
   "metadata": {},
   "outputs": [],
   "source": [
    "# PLT GRIDSEARCH (loss and reward)\n",
    "f,axar = plt.subplots(len(lossL),3,figsize=(35,24),sharex=True)\n",
    "ma_win = 10\n",
    "labL = ['value','policy']\n",
    "for li in range(len(lossL)):\n",
    "  loss = lossL[li]\n",
    "  axa = axar[li]\n",
    "  axa[0].set_ylabel('vloss weight = %.3f'%lwL[li])\n",
    "  for i in range(2):\n",
    "    ax = axa[i]\n",
    "    ax.set_title(labL[i])\n",
    "    ax.plot(loss[i].reshape(-1,ma_win).mean(-1))\n",
    "    ax.axhline(0,c='k',lw=0.5)\n",
    "  ax = axa[2]\n",
    "  ax.plot(rewardL[li].reshape(-1,ma_win).mean(-1))\n",
    "  ax.set_title('reward')\n",
    "  ax.set_ylim(0.2,1)\n",
    "plt.savefig('figures/pwm5-eplen15-vweight_loss-REINFORCE-lrate_%.4f-3seed.png'%learn_rate)"
   ]
  },
  {
   "cell_type": "code",
   "execution_count": null,
   "id": "6693a6dc",
   "metadata": {},
   "outputs": [],
   "source": []
  }
 ],
 "metadata": {
  "kernelspec": {
   "display_name": "Python 3",
   "language": "python",
   "name": "python3"
  },
  "language_info": {
   "codemirror_mode": {
    "name": "ipython",
    "version": 3
   },
   "file_extension": ".py",
   "mimetype": "text/x-python",
   "name": "python",
   "nbconvert_exporter": "python",
   "pygments_lexer": "ipython3",
   "version": "3.7.10"
  }
 },
 "nbformat": 4,
 "nbformat_minor": 5
}
