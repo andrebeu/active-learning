{
 "cells": [
  {
   "cell_type": "markdown",
   "id": "b5a6bdb0",
   "metadata": {},
   "source": [
    "### development notebook"
   ]
  },
  {
   "cell_type": "code",
   "execution_count": 1,
   "id": "8ac470f8",
   "metadata": {},
   "outputs": [],
   "source": [
    "import sys\n",
    "import os\n",
    "import itertools\n",
    "import numpy as np\n",
    "import torch as tr\n",
    "import pandas as pd\n",
    "from matplotlib import pyplot as plt\n",
    "\n",
    "from utils import *\n",
    "\n",
    "%load_ext autoreload\n",
    "%reload_ext autoreload\n",
    "%autoreload 2\n"
   ]
  },
  {
   "cell_type": "markdown",
   "id": "d10eaa37",
   "metadata": {},
   "source": [
    "### PWM task:\n",
    "- each trial consist of (i) two stimuli (ii) delay length\n"
   ]
  },
  {
   "cell_type": "code",
   "execution_count": 2,
   "id": "2a4cee02",
   "metadata": {},
   "outputs": [
    {
     "data": {
      "text/plain": [
       "[(0, 0), (0, 1), (0, 2), (1, 0), (1, 1), (1, 2), (2, 0), (2, 1), (2, 2)]"
      ]
     },
     "execution_count": 2,
     "metadata": {},
     "output_type": "execute_result"
    }
   ],
   "source": [
    "stim = [0,1,2]\n",
    "Sset = itertools.product(stim,stim)\n",
    "Sset = [i for i in Sset]\n",
    "Sset"
   ]
  },
  {
   "cell_type": "code",
   "execution_count": 3,
   "id": "877c9804",
   "metadata": {},
   "outputs": [],
   "source": [
    "rand_agent = lambda NA: lambda X: np.random.choice(NA)\n",
    "pwm3 = PWMTask(Sset,delay=3)\n",
    "pwm6 = PWMTask(Sset,delay=6)"
   ]
  },
  {
   "cell_type": "code",
   "execution_count": 4,
   "id": "54e9f7b5",
   "metadata": {},
   "outputs": [
    {
     "data": {
      "text/plain": [
       "[Experience(state=0.0, obs=0.0, action=0, reward=1, obs_tp1=0.0, rnn_state=None),\n",
       " Experience(state=0.0, obs=0.0, action=0, reward=1, obs_tp1=0.0, rnn_state=None),\n",
       " Experience(state=0.0, obs=0.0, action=0, reward=1, obs_tp1=0.0, rnn_state=None),\n",
       " Experience(state=0.0, obs=0.0, action=1, reward=0, obs_tp1=1.0, rnn_state=None),\n",
       " Experience(state=1.0, obs=2.0, action=2, reward=0, obs_tp1=-1, rnn_state=None)]"
      ]
     },
     "execution_count": 4,
     "metadata": {},
     "output_type": "execute_result"
    }
   ],
   "source": [
    "env = Env()\n",
    "task = pwm3\n",
    "env.play_trial(rand_agent(3),task)\n"
   ]
  },
  {
   "cell_type": "code",
   "execution_count": 6,
   "id": "6f8f6d75",
   "metadata": {},
   "outputs": [],
   "source": [
    "agent = ActorCritic()\n"
   ]
  },
  {
   "cell_type": "code",
   "execution_count": 7,
   "id": "2b8f8aa4",
   "metadata": {},
   "outputs": [
    {
     "ename": "TypeError",
     "evalue": "expected Tensor as element 0 in argument 0, but got NoneType",
     "output_type": "error",
     "traceback": [
      "\u001b[0;31m---------------------------------------------------------------------------\u001b[0m",
      "\u001b[0;31mTypeError\u001b[0m                                 Traceback (most recent call last)",
      "\u001b[0;32m<ipython-input-7-673d73501515>\u001b[0m in \u001b[0;36m<module>\u001b[0;34m\u001b[0m\n\u001b[1;32m      5\u001b[0m   \u001b[0mtrial_expD\u001b[0m\u001b[0;34m\u001b[0m\u001b[0;34m\u001b[0m\u001b[0m\n\u001b[1;32m      6\u001b[0m   \u001b[0mexpD\u001b[0m \u001b[0;34m=\u001b[0m \u001b[0mtrial_expD\u001b[0m\u001b[0;34m\u001b[0m\u001b[0;34m\u001b[0m\u001b[0m\n\u001b[0;32m----> 7\u001b[0;31m \u001b[0magent\u001b[0m\u001b[0;34m.\u001b[0m\u001b[0mupdate\u001b[0m\u001b[0;34m(\u001b[0m\u001b[0mexpD\u001b[0m\u001b[0;34m)\u001b[0m\u001b[0;34m\u001b[0m\u001b[0;34m\u001b[0m\u001b[0m\n\u001b[0m",
      "\u001b[0;32m~/wd/RL/active-learning/pwm-toy0521/utils.py\u001b[0m in \u001b[0;36mupdate\u001b[0;34m(self, expD)\u001b[0m\n\u001b[1;32m    155\u001b[0m         \"\"\"\n\u001b[1;32m    156\u001b[0m         \u001b[0;31m# unpack experience\u001b[0m\u001b[0;34m\u001b[0m\u001b[0;34m\u001b[0m\u001b[0;34m\u001b[0m\u001b[0m\n\u001b[0;32m--> 157\u001b[0;31m         \u001b[0mrnn_states\u001b[0m \u001b[0;34m=\u001b[0m \u001b[0mtr\u001b[0m\u001b[0;34m.\u001b[0m\u001b[0mcat\u001b[0m\u001b[0;34m(\u001b[0m\u001b[0;34m[\u001b[0m\u001b[0;34m*\u001b[0m\u001b[0mexpD\u001b[0m\u001b[0;34m[\u001b[0m\u001b[0;34m'rnn_state'\u001b[0m\u001b[0;34m]\u001b[0m\u001b[0;34m]\u001b[0m\u001b[0;34m)\u001b[0m\u001b[0;34m\u001b[0m\u001b[0;34m\u001b[0m\u001b[0m\n\u001b[0m\u001b[1;32m    158\u001b[0m         \u001b[0mvhat\u001b[0m \u001b[0;34m=\u001b[0m \u001b[0mself\u001b[0m\u001b[0;34m.\u001b[0m\u001b[0mrnn2val\u001b[0m\u001b[0;34m(\u001b[0m\u001b[0mrnn_states\u001b[0m\u001b[0;34m)\u001b[0m\u001b[0;34m\u001b[0m\u001b[0;34m\u001b[0m\u001b[0m\n\u001b[1;32m    159\u001b[0m         \u001b[0mpact\u001b[0m \u001b[0;34m=\u001b[0m \u001b[0mself\u001b[0m\u001b[0;34m.\u001b[0m\u001b[0mrnn2pi\u001b[0m\u001b[0;34m(\u001b[0m\u001b[0mrnn_states\u001b[0m\u001b[0;34m)\u001b[0m\u001b[0;34m\u001b[0m\u001b[0;34m\u001b[0m\u001b[0m\n",
      "\u001b[0;31mTypeError\u001b[0m: expected Tensor as element 0 in argument 0, but got NoneType"
     ]
    }
   ],
   "source": [
    "neps = 2\n",
    "for ep in range(neps):\n",
    "  trial_expL = env.play_trial(rand_agent(3),task)\n",
    "  trial_expD = unpack_expL(trial_expL)\n",
    "  trial_expD\n",
    "  expD = trial_expD\n",
    "agent.update(expD)"
   ]
  }
 ],
 "metadata": {
  "kernelspec": {
   "display_name": "Python 3",
   "language": "python",
   "name": "python3"
  },
  "language_info": {
   "codemirror_mode": {
    "name": "ipython",
    "version": 3
   },
   "file_extension": ".py",
   "mimetype": "text/x-python",
   "name": "python",
   "nbconvert_exporter": "python",
   "pygments_lexer": "ipython3",
   "version": "3.7.10"
  }
 },
 "nbformat": 4,
 "nbformat_minor": 5
}
