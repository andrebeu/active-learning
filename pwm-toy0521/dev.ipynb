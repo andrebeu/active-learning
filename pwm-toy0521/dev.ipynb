{
 "cells": [
  {
   "cell_type": "markdown",
   "id": "b5a6bdb0",
   "metadata": {},
   "source": [
    "### development notebook"
   ]
  },
  {
   "cell_type": "code",
   "execution_count": 1,
   "id": "8ac470f8",
   "metadata": {},
   "outputs": [],
   "source": [
    "import sys\n",
    "import os\n",
    "import itertools\n",
    "import numpy as np\n",
    "import torch as tr\n",
    "import pandas as pd\n",
    "from matplotlib import pyplot as plt\n",
    "\n",
    "from utils import *\n",
    "\n",
    "%load_ext autoreload\n",
    "%reload_ext autoreload\n",
    "%autoreload 2\n"
   ]
  },
  {
   "cell_type": "markdown",
   "id": "d10eaa37",
   "metadata": {},
   "source": [
    "### PWM task\n"
   ]
  },
  {
   "cell_type": "code",
   "execution_count": null,
   "id": "eaf9b275",
   "metadata": {},
   "outputs": [],
   "source": [
    "## delay length experiment\n",
    "neps = 10000\n",
    "\n",
    "for d in [1,2,3]:\n",
    "  task = PWMTask(stim_set=[(0,1),(1,0)])\n",
    "  actor = ActorCritic()\n",
    "  env = Env(actor,task)\n",
    "  \n",
    "  holdR = np.zeros(neps)\n",
    "  actR = np.zeros(neps)\n",
    "  for ep in range(neps):\n",
    "    data = env.run_pwm_trial(delay=d,update=True)\n",
    "    holdR[ep]=data['reward'][:-1].mean()\n",
    "    actR[ep]=data['reward'][-1]\n",
    "  plt.plot(actR.reshape(-1,20).mean(1))"
   ]
  }
 ],
 "metadata": {
  "kernelspec": {
   "display_name": "Python 3",
   "language": "python",
   "name": "python3"
  },
  "language_info": {
   "codemirror_mode": {
    "name": "ipython",
    "version": 3
   },
   "file_extension": ".py",
   "mimetype": "text/x-python",
   "name": "python",
   "nbconvert_exporter": "python",
   "pygments_lexer": "ipython3",
   "version": "3.7.10"
  }
 },
 "nbformat": 4,
 "nbformat_minor": 5
}
