{
 "cells": [
  {
   "cell_type": "markdown",
   "id": "b5a6bdb0",
   "metadata": {},
   "source": [
    "### development notebook"
   ]
  },
  {
   "cell_type": "code",
   "execution_count": 1,
   "id": "8ac470f8",
   "metadata": {},
   "outputs": [],
   "source": [
    "import sys\n",
    "import os\n",
    "import itertools\n",
    "import numpy as np\n",
    "import torch as tr\n",
    "import pandas as pd\n",
    "from matplotlib import pyplot as plt\n",
    "\n",
    "from utils import *\n",
    "\n",
    "%load_ext autoreload\n",
    "%reload_ext autoreload\n",
    "%autoreload 2\n"
   ]
  },
  {
   "cell_type": "markdown",
   "id": "d10eaa37",
   "metadata": {},
   "source": [
    "### PWM task:\n",
    "- each trial consist of (i) two stimuli (ii) delay length\n"
   ]
  },
  {
   "cell_type": "code",
   "execution_count": 3,
   "id": "2a4cee02",
   "metadata": {},
   "outputs": [
    {
     "data": {
      "text/plain": [
       "[(0, 0), (0, 1), (0, 2), (1, 0), (1, 1), (1, 2), (2, 0), (2, 1), (2, 2)]"
      ]
     },
     "execution_count": 3,
     "metadata": {},
     "output_type": "execute_result"
    }
   ],
   "source": [
    "stim = [0,1,2]\n",
    "Sset = itertools.product(stim,stim)\n",
    "Sset = [i for i in Sset]\n",
    "Sset"
   ]
  },
  {
   "cell_type": "code",
   "execution_count": 4,
   "id": "877c9804",
   "metadata": {},
   "outputs": [],
   "source": [
    "task = PWMTask(Sset)"
   ]
  },
  {
   "cell_type": "code",
   "execution_count": 8,
   "id": "2b8f8aa4",
   "metadata": {},
   "outputs": [
    {
     "name": "stdout",
     "output_type": "stream",
     "text": [
      "Experience(tstep=0, state=0.0, action=1, reward=0, state_tp1=0.0, rnn_state=None)\n",
      "Experience(tstep=1, state=0.0, action=1, reward=0, state_tp1=0.0, rnn_state=None)\n",
      "Experience(tstep=2, state=0.0, action=2, reward=0, state_tp1=2.0, rnn_state=None)\n",
      "Experience(tstep=3, state=2.0, action=2, reward=0, state_tp1=-1, rnn_state=None)\n",
      "Experience(tstep=0, state=0.0, action=2, reward=0, state_tp1=0.0, rnn_state=None)\n",
      "Experience(tstep=1, state=0.0, action=2, reward=0, state_tp1=0.0, rnn_state=None)\n",
      "Experience(tstep=2, state=0.0, action=2, reward=0, state_tp1=1.0, rnn_state=None)\n",
      "Experience(tstep=3, state=1.0, action=0, reward=0, state_tp1=-1, rnn_state=None)\n"
     ]
    }
   ],
   "source": [
    "neps = 2\n",
    "for ep in range(neps):\n",
    "  trial_expL = task.play_trial(pifn=None)\n",
    "  trial_expD = unpack_expL(trial_expL)\n",
    "  trial_expD"
   ]
  }
 ],
 "metadata": {
  "kernelspec": {
   "display_name": "Python 3",
   "language": "python",
   "name": "python3"
  },
  "language_info": {
   "codemirror_mode": {
    "name": "ipython",
    "version": 3
   },
   "file_extension": ".py",
   "mimetype": "text/x-python",
   "name": "python",
   "nbconvert_exporter": "python",
   "pygments_lexer": "ipython3",
   "version": "3.7.3"
  }
 },
 "nbformat": 4,
 "nbformat_minor": 5
}
