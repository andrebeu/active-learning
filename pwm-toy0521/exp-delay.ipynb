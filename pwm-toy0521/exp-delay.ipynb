{
 "cells": [
  {
   "cell_type": "markdown",
   "id": "b5a6bdb0",
   "metadata": {},
   "source": [
    "# Delay experiment\n",
    "how does delay time affect training?\n",
    "- 2 orthogonal stimuli\n",
    "- reward: +1 hold +1 final action 0 otherwise"
   ]
  },
  {
   "cell_type": "code",
   "execution_count": 1,
   "id": "8ac470f8",
   "metadata": {},
   "outputs": [],
   "source": [
    "import sys\n",
    "import os\n",
    "import itertools\n",
    "import numpy as np\n",
    "import torch as tr\n",
    "import pandas as pd\n",
    "from matplotlib import pyplot as plt\n",
    "\n",
    "from utils import *\n",
    "\n",
    "%load_ext autoreload\n",
    "%reload_ext autoreload\n",
    "%autoreload 2\n"
   ]
  },
  {
   "cell_type": "code",
   "execution_count": 2,
   "id": "898ca222",
   "metadata": {},
   "outputs": [],
   "source": [
    "# single condition of experiment\n",
    "def exp(delay,neps,nseeds):\n",
    "  reward = np.zeros([nseeds,neps])\n",
    "  for s in range(nseeds):\n",
    "    actor = ActorCritic()\n",
    "    task = PWMTask(stim_set=[(0,1),(1,0)])\n",
    "    env = Env(actor,task)\n",
    "    for ep in range(neps):\n",
    "      data = env.run_pwm_trial(delay=delay,update=True)\n",
    "      reward[s,ep]=data['reward'][-1]\n",
    "  return reward\n"
   ]
  },
  {
   "cell_type": "code",
   "execution_count": null,
   "id": "c3b054a6",
   "metadata": {},
   "outputs": [],
   "source": [
    "# run experiment over delay conditions\n",
    "nseeds,neps=10,100000\n",
    "L = []\n",
    "for delay in range(1,10,2):\n",
    "  R = exp(delay,neps,nseeds)\n",
    "  L.append(R)\n",
    "results = np.array(L)"
   ]
  },
  {
   "cell_type": "code",
   "execution_count": null,
   "id": "4727fa6a",
   "metadata": {},
   "outputs": [],
   "source": [
    "for res in results:\n",
    "  M = res.mean(0) \n",
    "  S = res.std(0) / np.sqrt(len(res))\n",
    "  M = M.reshape(-1,2).mean(1)\n",
    "  plt.plot(M)\n",
    "plt.savefig('tempfig')"
   ]
  }
 ],
 "metadata": {
  "kernelspec": {
   "display_name": "Python 3",
   "language": "python",
   "name": "python3"
  },
  "language_info": {
   "codemirror_mode": {
    "name": "ipython",
    "version": 3
   },
   "file_extension": ".py",
   "mimetype": "text/x-python",
   "name": "python",
   "nbconvert_exporter": "python",
   "pygments_lexer": "ipython3",
   "version": "3.7.10"
  }
 },
 "nbformat": 4,
 "nbformat_minor": 5
}
