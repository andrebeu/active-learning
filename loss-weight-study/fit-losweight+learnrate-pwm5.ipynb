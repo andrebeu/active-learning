{
 "cells": [
  {
   "cell_type": "code",
   "execution_count": 1,
   "id": "cc933688",
   "metadata": {},
   "outputs": [],
   "source": [
    "import sys\n",
    "import os\n",
    "import itertools\n",
    "import numpy as np\n",
    "import torch as tr\n",
    "import pandas as pd\n",
    "from matplotlib import pyplot as plt\n",
    "import seaborn as sns\n",
    "sns.set_context('talk')\n",
    "import pprint\n",
    "\n",
    "import multiprocessing as mp\n",
    "import concurrent\n",
    "\n",
    "from utils import *\n",
    "\n",
    "%load_ext autoreload\n",
    "%reload_ext autoreload\n",
    "%autoreload 2\n"
   ]
  },
  {
   "cell_type": "markdown",
   "id": "7501222f",
   "metadata": {},
   "source": [
    "# fit pwm5\n",
    "- learning rate and critic loss weight\n",
    "\n",
    "## notes\n",
    "- PWM0: is the trivial task implementation\n",
    "    - two stim, response given by second\n",
    "- PWM5: is closer to real PWM\n",
    "    - 5 stimuli (ABCDE) \n",
    "    - A&E are edge cases where response given by second stim\n",
    "    - others require comparison"
   ]
  },
  {
   "cell_type": "code",
   "execution_count": 2,
   "id": "f01d2fff",
   "metadata": {},
   "outputs": [],
   "source": [
    "def run_exp(args,neps):\n",
    "  \"\"\" loss [(value, policy),neps] \"\"\"\n",
    "  # task and agent definition\n",
    "  agent_kw = {**args}\n",
    "  agent = ActorCritic(**agent_kw)\n",
    "  task_kw = {'stimset':'pwm5','epoch_len':60,'trlen':3}\n",
    "  task = PWMTaskFR(**task_kw)\n",
    "  # init loop vars\n",
    "  reward = -np.ones(neps)\n",
    "  loss = -np.ones([2,neps])\n",
    "  pism = -np.ones([3,neps])\n",
    "  L = []\n",
    "  # loop over epochs\n",
    "  for epoch in range(neps):\n",
    "    epoch_data = run_epoch_FR(agent,task)\n",
    "    epoch_data = process_epdata(epoch_data)\n",
    "    update_data = agent.update(epoch_data)\n",
    "    reward[epoch] = np.sum(epoch_data['reward'])/task.ntrials\n",
    "    loss[:,epoch] = list(update_data.values())\n",
    "  return loss,reward\n",
    "\n"
   ]
  },
  {
   "cell_type": "code",
   "execution_count": null,
   "id": "13cd1707",
   "metadata": {},
   "outputs": [
    {
     "name": "stdout",
     "output_type": "stream",
     "text": [
      "2\n",
      "3\n"
     ]
    }
   ],
   "source": [
    "# RUN GRIDSEARCH\n",
    "lwL = [2,3,4,5]\n",
    "ne = 30000\n",
    "learn_rate = 0.005\n",
    "gamma = 1.0\n",
    "lossL = np.zeros([len(lwL),2,ne])\n",
    "rewardL = np.zeros([len(lwL),ne])\n",
    "for idx in range(len(lwL)):\n",
    "  print(lwL[idx])\n",
    "  argD = {'lweight':lwL[idx],'gamma':gamma,'learnrate':learn_rate}\n",
    "  lossL[idx],rewardL[idx] = run_exp(argD,ne)\n",
    "  "
   ]
  },
  {
   "cell_type": "code",
   "execution_count": null,
   "id": "eb32692d",
   "metadata": {},
   "outputs": [],
   "source": [
    "# PLT GRIDSEARCH\n",
    "f,axar = plt.subplots(len(lossL),3,figsize=(35,24),sharex=True)\n",
    "ma_win = 10\n",
    "labL = ['value','policy']\n",
    "for li in range(len(lossL)):\n",
    "  loss = lossL[li]\n",
    "  axa = axar[li]\n",
    "  axa[0].set_ylabel('vloss weight = %.3f'%lwL[li])\n",
    "  for i in range(2):\n",
    "    ax = axa[i]\n",
    "    ax.set_title(labL[i])\n",
    "    ax.plot(loss[i].reshape(-1,ma_win).mean(-1))\n",
    "    ax.axhline(0,c='k',lw=0.5)\n",
    "  ax = axa[2]\n",
    "  ax.plot(rewardL[li].reshape(-1,ma_win).mean(-1))\n",
    "  ax.set_title('reward')\n",
    "  ax.set_ylim(0.2,1)\n",
    "plt.savefig('figures/pwm5-eplen60-vweight_loss-REINFORCE-lrate_%.4f-1seed.png'%learn_rate)"
   ]
  },
  {
   "cell_type": "code",
   "execution_count": null,
   "id": "6693a6dc",
   "metadata": {},
   "outputs": [],
   "source": []
  }
 ],
 "metadata": {
  "kernelspec": {
   "display_name": "Python 3",
   "language": "python",
   "name": "python3"
  },
  "language_info": {
   "codemirror_mode": {
    "name": "ipython",
    "version": 3
   },
   "file_extension": ".py",
   "mimetype": "text/x-python",
   "name": "python",
   "nbconvert_exporter": "python",
   "pygments_lexer": "ipython3",
   "version": "3.7.10"
  }
 },
 "nbformat": 4,
 "nbformat_minor": 5
}
