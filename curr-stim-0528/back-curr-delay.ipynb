{
 "cells": [
  {
   "cell_type": "markdown",
   "id": "b5a6bdb0",
   "metadata": {},
   "source": [
    "# Delay-curriculum experiment\n",
    "Does pretraining on shorter delay improve learning?\n",
    "- 2 orthogonal stimuli\n",
    "- reward: +1 hold +1 final action 0 otherwise\n",
    "\n",
    "*keeping here to ensure back compatible*"
   ]
  },
  {
   "cell_type": "code",
   "execution_count": 1,
   "id": "8ac470f8",
   "metadata": {},
   "outputs": [],
   "source": [
    "import sys\n",
    "import os\n",
    "import itertools\n",
    "import numpy as np\n",
    "import torch as tr\n",
    "import pandas as pd\n",
    "from matplotlib import pyplot as plt\n",
    "import seaborn as sns\n",
    "sns.set_context('talk')\n",
    "\n",
    "from utils import *\n",
    "\n",
    "%load_ext autoreload\n",
    "%reload_ext autoreload\n",
    "%autoreload 2\n"
   ]
  },
  {
   "cell_type": "code",
   "execution_count": 2,
   "id": "bf737f09",
   "metadata": {},
   "outputs": [],
   "source": [
    "def exp_curr_delay(curr,neps,nseeds):\n",
    "  \"\"\" \n",
    "  curr specifies neps for each delay\n",
    "  \"\"\"\n",
    "  assert sum(curr.values()) == 1.0\n",
    "  reward = -np.ones([nseeds,neps])\n",
    "  for s in range(nseeds):\n",
    "    actor = ActorCritic()\n",
    "    task = PWMTask(stim_set=[(0,1),(1,0)])\n",
    "    env = Env(actor,task)\n",
    "    ## curriculum training\n",
    "    ep = 0\n",
    "    for delay,prop in curr.items():\n",
    "      for _ in range(int(neps*prop)):\n",
    "        data = env.run_pwm_trial(delay=delay,update=True)\n",
    "        reward[s,ep]=data['reward'][-1]\n",
    "        ep+=1\n",
    "  return reward"
   ]
  },
  {
   "cell_type": "code",
   "execution_count": null,
   "id": "fc345250",
   "metadata": {},
   "outputs": [],
   "source": [
    "nseeds = 3\n",
    "neps = 10000\n",
    "\n",
    "currL = [\n",
    "  {5:1.0},\n",
    "  {1:0.8,5:0.2},\n",
    "]\n",
    "\n",
    "L = []\n",
    "for curr in currL:\n",
    "  R = exp_curr_delay(curr,neps,nseeds)\n",
    "  L.append(R)\n",
    "results = np.array(L)"
   ]
  },
  {
   "cell_type": "code",
   "execution_count": null,
   "id": "165e988c",
   "metadata": {},
   "outputs": [],
   "source": [
    "plt.figure(figsize=(12,5))\n",
    "labL = ['no-curr','curr']\n",
    "for i in range(len(results)):\n",
    "  res = results[i]\n",
    "  M = res.mean(0) \n",
    "  S = res.std(0) / np.sqrt(len(res))\n",
    "  M = M.reshape(-1,5).mean(1)\n",
    "  plt.plot(M,label=labL[i])\n",
    "\n",
    "plt.legend()\n",
    "# plt.savefig('delay-curriculum')"
   ]
  }
 ],
 "metadata": {
  "kernelspec": {
   "display_name": "Python 3",
   "language": "python",
   "name": "python3"
  },
  "language_info": {
   "codemirror_mode": {
    "name": "ipython",
    "version": 3
   },
   "file_extension": ".py",
   "mimetype": "text/x-python",
   "name": "python",
   "nbconvert_exporter": "python",
   "pygments_lexer": "ipython3",
   "version": "3.7.10"
  }
 },
 "nbformat": 4,
 "nbformat_minor": 5
}
