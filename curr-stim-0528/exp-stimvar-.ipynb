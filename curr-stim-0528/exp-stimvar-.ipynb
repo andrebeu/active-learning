{
 "cells": [
  {
   "cell_type": "markdown",
   "id": "b5a6bdb0",
   "metadata": {},
   "source": [
    "# Delay experiment\n",
    "how does delay time affect training?\n",
    "- 2 orthogonal stimuli\n",
    "- reward: +1 hold +1 final action 0 otherwise"
   ]
  },
  {
   "cell_type": "code",
   "execution_count": 1,
   "id": "8ac470f8",
   "metadata": {},
   "outputs": [],
   "source": [
    "import sys\n",
    "import os\n",
    "import itertools\n",
    "import numpy as np\n",
    "import torch as tr\n",
    "import pandas as pd\n",
    "from matplotlib import pyplot as plt\n",
    "import seaborn as sns\n",
    "sns.set_context('talk')\n",
    "\n",
    "import multiprocessing as mp\n",
    "import concurrent\n",
    "\n",
    "from utils import *\n",
    "\n",
    "%load_ext autoreload\n",
    "%reload_ext autoreload\n",
    "%autoreload 2\n"
   ]
  },
  {
   "cell_type": "code",
   "execution_count": 2,
   "id": "61c715d1",
   "metadata": {},
   "outputs": [],
   "source": [
    "def exp_mp(seed_exp,nseeds):\n",
    "  \"\"\" \n",
    "  first argument is seed_exp method\n",
    "  seed_exp should take one positional argument\n",
    "    placeholder for iterating over seeds\n",
    "  \"\"\"\n",
    "  with concurrent.futures.ProcessPoolExecutor() as exe:\n",
    "    data = exe.map(seed_exp, np.arange(nseeds))\n",
    "  return np.array([i for i in data])\n",
    "  "
   ]
  },
  {
   "cell_type": "code",
   "execution_count": null,
   "id": "e03510cb",
   "metadata": {},
   "outputs": [
    {
     "name": "stdout",
     "output_type": "stream",
     "text": [
      "[0, 2]\n",
      "[-1, 1]\n"
     ]
    }
   ],
   "source": [
    "nseeds,neps = 8,10000\n",
    "muL = [[0,2],[-1,1]]\n",
    "sigma = 1\n",
    "\n",
    "dataL = []\n",
    "for mu in muL:\n",
    "  print(mu)\n",
    "\n",
    "  def seed_exp(_seed):\n",
    "      task = PWMTask(\n",
    "          stim_set=[(0,1),(1,0)],\n",
    "          embed_stim='gauss',\n",
    "          stim_mean=mu,\n",
    "          stim_var=sigma\n",
    "        )\n",
    "      actor = ActorCritic()\n",
    "      env = Env(actor,task)\n",
    "      seed_data=np.zeros(neps)\n",
    "      for ep in range(neps):\n",
    "        ep_data = env.run_pwm_trial2(update=True)\n",
    "        seed_data[ep]=ep_data['reward'][-1]\n",
    "      return seed_data\n",
    "\n",
    "  # run over multiple seeds\n",
    "  data = exp_mp(seed_exp,nseeds)\n",
    "  dataL.append(data)\n",
    "results = np.array(dataL)"
   ]
  },
  {
   "cell_type": "code",
   "execution_count": null,
   "id": "3bde4a08",
   "metadata": {},
   "outputs": [],
   "source": [
    "# todo wrap into plt_hrate(accL,condL)\n",
    "plt.figure(figsize=(12,5))\n",
    "for d,res in zip(muL,results):\n",
    "  M = res.mean(0) \n",
    "  S = res.std(0) / np.sqrt(len(res))\n",
    "  M = M.reshape(-1,50).mean(1)\n",
    "  plt.plot(M,label=d)\n",
    "plt.title('N=%iseeds, per variance condition'%nseeds)\n",
    "plt.ylim(-.05,1.05)\n",
    "plt.legend()\n",
    "# plt.savefig('figures/stimvar-aux1')"
   ]
  },
  {
   "cell_type": "markdown",
   "id": "0894edd5",
   "metadata": {},
   "source": [
    "# todo\n",
    "- plt_hrate_gsteps(accL) return axarr\n",
    "- rows: different means; cols: diff sigmas\n",
    "    - [-1,1],[0,1],[1,8]\n",
    "    - NB: network size changes weight initial conditions, which might change range/kernell of input layer\n",
    "- modify exp fun to run seeds in parallel\n"
   ]
  }
 ],
 "metadata": {
  "kernelspec": {
   "display_name": "Python 3",
   "language": "python",
   "name": "python3"
  },
  "language_info": {
   "codemirror_mode": {
    "name": "ipython",
    "version": 3
   },
   "file_extension": ".py",
   "mimetype": "text/x-python",
   "name": "python",
   "nbconvert_exporter": "python",
   "pygments_lexer": "ipython3",
   "version": "3.7.10"
  }
 },
 "nbformat": 4,
 "nbformat_minor": 5
}
